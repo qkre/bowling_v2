{
 "cells": [
  {
   "cell_type": "code",
   "execution_count": null,
   "id": "a2dc749a",
   "metadata": {},
   "outputs": [],
   "source": [
    "# image 에서 볼링 점수판인 blue 색상만 추출 -> 2진화.\n",
    "def get_blue(image, color):\n",
    "    other_1 = (color + 1) % 3\n",
    "    other_2 = (color + 2) % 3\n",
    "    \n",
    "    c = image[:, :, other_1] == 255\n",
    "    image[c] = [0,0,0]\n",
    "    c = image[:, :, other_2] == 255\n",
    "    image[c] = [0, 0, 0]\n",
    "    c = image[:, :, color] < 170\n",
    "    image[c] = [0, 0, 0]\n",
    "    c = image[:, :, color] != 0\n",
    "    image[c] = [255, 255, 255]\n",
    "    \n",
    "    return image"
   ]
  }
 ],
 "metadata": {
  "kernelspec": {
   "display_name": "Python 3 (ipykernel)",
   "language": "python",
   "name": "python3"
  },
  "language_info": {
   "codemirror_mode": {
    "name": "ipython",
    "version": 3
   },
   "file_extension": ".py",
   "mimetype": "text/x-python",
   "name": "python",
   "nbconvert_exporter": "python",
   "pygments_lexer": "ipython3",
   "version": "3.9.13"
  }
 },
 "nbformat": 4,
 "nbformat_minor": 5
}
