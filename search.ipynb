{
 "cells": [
  {
   "cell_type": "code",
   "execution_count": 1,
   "id": "545ce890",
   "metadata": {},
   "outputs": [],
   "source": [
    "import os\n",
    "\n",
    "# 폴더내의 파일을 리스트로 반환.\n",
    "def search(dirname):\n",
    "    filenames = os.listdir(dirname)\n",
    "    ls = []\n",
    "    for filename in filenames:\n",
    "        full_filename = os.path.join(dirname, filename)\n",
    "        ls.append(full_filename)\n",
    "\n",
    "    return ls"
   ]
  }
 ],
 "metadata": {
  "kernelspec": {
   "display_name": "Python 3 (ipykernel)",
   "language": "python",
   "name": "python3"
  },
  "language_info": {
   "codemirror_mode": {
    "name": "ipython",
    "version": 3
   },
   "file_extension": ".py",
   "mimetype": "text/x-python",
   "name": "python",
   "nbconvert_exporter": "python",
   "pygments_lexer": "ipython3",
   "version": "3.9.13"
  }
 },
 "nbformat": 4,
 "nbformat_minor": 5
}
